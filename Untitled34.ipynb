{
 "cells": [
  {
   "cell_type": "markdown",
   "id": "9de94bee-5e93-4718-adf7-f6919148a458",
   "metadata": {},
   "source": [
    "## Q1. Calculate the 95% confidence interval for a sample of data with a mean of 50 and a standard deviation\n",
    "of 5 using Python. Interpret the results."
   ]
  },
  {
   "cell_type": "code",
   "execution_count": null,
   "id": "e7c89cb4-34f5-467f-b65f-d7f73a575e82",
   "metadata": {},
   "outputs": [],
   "source": [
    "You can calculate the 95% confidence interval for a sample mean using the formula:\n",
    "\n",
    "Confidence interval\n",
    "=\n",
    "Sample mean\n",
    "±\n",
    "(\n",
    "Z-value\n",
    "×\n",
    "Standard deviation\n",
    "Sample size\n",
    ")\n",
    "Confidence interval=Sample mean±(Z-value× \n",
    "Sample size\n",
    "​\n",
    " \n",
    "Standard deviation\n",
    "​\n",
    " )\n",
    "\n",
    "Where:\n",
    "\n",
    "Sample mean is the mean of the sample data.\n",
    "Standard deviation is the standard deviation of the sample data.\n",
    "Z-value is the critical value from the standard normal distribution corresponding to the desired confidence level. For a 95% confidence level, the Z-value is approximately 1.96.\n",
    "Sample size is the number of observations in the sample.\n",
    "Let's calculate the confidence interval using Python:\n",
    "\n",
    "python\n",
    "Copy code\n",
    "import scipy.stats as stats\n",
    "\n",
    "# Sample mean\n",
    "sample_mean = 50\n",
    "\n",
    "# Standard deviation\n",
    "std_dev = 5\n",
    "\n",
    "# Sample size\n",
    "sample_size = 100  # Assuming a sample size of 100 for demonstration purposes\n",
    "\n",
    "# Z-value for 95% confidence interval\n",
    "z_value = stats.norm.ppf(0.975)  # For a two-tailed test, 0.975 corresponds to 0.025 in each tail\n",
    "\n",
    "# Calculate the margin of error\n",
    "margin_of_error = z_value * (std_dev / (sample_size ** 0.5))\n",
    "\n",
    "# Calculate the confidence interval\n",
    "lower_bound = sample_mean - margin_of_error\n",
    "upper_bound = sample_mean + margin_of_error\n",
    "\n",
    "print(\"95% Confidence Interval: [{:.2f}, {:.2f}]\".format(lower_bound, upper_bound))\n",
    "Interpretation:\n",
    "\n",
    "The 95% confidence interval for the sample mean of 50, with a standard deviation of 5 and a sample size of 100, is [48.02, 51.98].\n",
    "This means that we are 95% confident that the true population mean falls within this interval.\n",
    "In other words, if we were to repeat this sampling process multiple times, we would expect approximately 95% of the calculated confidence intervals to contain the true population mean.\n",
    "\n",
    "\n",
    "\n",
    "\n",
    "\n"
   ]
  },
  {
   "cell_type": "code",
   "execution_count": null,
   "id": "9fd8cc7a-458d-4603-a426-c2b1f8c668cb",
   "metadata": {},
   "outputs": [],
   "source": []
  }
 ],
 "metadata": {
  "kernelspec": {
   "display_name": "Python 3 (ipykernel)",
   "language": "python",
   "name": "python3"
  },
  "language_info": {
   "codemirror_mode": {
    "name": "ipython",
    "version": 3
   },
   "file_extension": ".py",
   "mimetype": "text/x-python",
   "name": "python",
   "nbconvert_exporter": "python",
   "pygments_lexer": "ipython3",
   "version": "3.10.8"
  }
 },
 "nbformat": 4,
 "nbformat_minor": 5
}
